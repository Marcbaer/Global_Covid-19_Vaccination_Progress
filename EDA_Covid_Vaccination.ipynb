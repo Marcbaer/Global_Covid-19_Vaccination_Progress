{
 "cells": [
  {
   "cell_type": "markdown",
   "metadata": {},
   "source": [
    "# Analysis of the Global Covid-19 Vaccination Progress\n",
    "\n",
    "This Notebook analyzes the progress of covid vaccination in different countries by investigation the [COVID-19 World Vaccination Progress Dataset](https://www.kaggle.com/gpreda/covid-world-vaccination-progress) from [Our World Data](https://ourworldindata.org/). The data is enriched with [GDP per Capita Information](https://data.worldbank.org/indicator/NY.GDP.PCAP.CD) provided by the world bank and [country population information](https://population.un.org/wpp/Download/Standard/CSV/) provided by the United Nations. The enriched data allows insights into the demographic and economic situations of the analysed countries and their progress on vaccinating their citizens. The data is being transformed to optimize the analytical insights.\n",
    "\n",
    "The notebook is structured as followed:\n",
    "\n",
    "* **Data Cleaning and Merging**: Reading and merging the collected datasets\n",
    "    * Drop unused columns\n",
    "    * Drop columns with missing values\n",
    "    * Transform categorical values (vaccines column)\n",
    "    \n",
    "    \n",
    "* **Exploratory Data Analysis**: Deliver insights into the data by analysing the following questions:\n",
    "    * Recent Daily Vaccinations per million citizens per country\n",
    "    * US Daily Vaccination Rate\n",
    "    * Association between GDP per Capita and percent of vaccinated citizens\n",
    "    * Association between population size and percent of vaccinated citizens\n",
    "    * Regression Coefficients for population size, GDP per Capita and population density\n",
    "    * Vaccines Analysis: Are there vaccines mainly accessible for countries with a high GDP per Capita?"
   ]
  },
  {
   "cell_type": "code",
   "execution_count": 26,
   "metadata": {},
   "outputs": [
    {
     "name": "stdout",
     "output_type": "stream",
     "text": [
      "1.0.5\n",
      "1.18.5\n",
      "3.2.2\n",
      "0.11.1\n",
      "0.23.1\n"
     ]
    }
   ],
   "source": [
    "import os\n",
    "import pandas as pd\n",
    "import numpy as np\n",
    "import matplotlib.pyplot as plt\n",
    "%matplotlib inline\n",
    "import matplotlib\n",
    "import seaborn as sns\n",
    "from sklearn.linear_model import LinearRegression\n",
    "import sklearn\n",
    "print(pd.__version__)\n",
    "print(np.__version__)\n",
    "print(matplotlib.__version__)\n",
    "print(sns.__version__)\n",
    "print(sklearn.__version__)"
   ]
  },
  {
   "cell_type": "code",
   "execution_count": 2,
   "metadata": {},
   "outputs": [
    {
     "name": "stdout",
     "output_type": "stream",
     "text": [
      "Shape of dataset: (1427, 15) (264, 3) (280932, 10)\n",
      "Columns in dataset: Index(['country', 'iso_code', 'date', 'total_vaccinations',\n",
      "       'people_vaccinated', 'people_fully_vaccinated',\n",
      "       'daily_vaccinations_raw', 'daily_vaccinations',\n",
      "       'total_vaccinations_per_hundred', 'people_vaccinated_per_hundred',\n",
      "       'people_fully_vaccinated_per_hundred', 'daily_vaccinations_per_million',\n",
      "       'vaccines', 'source_name', 'source_website'],\n",
      "      dtype='object')\n"
     ]
    },
    {
     "data": {
      "text/html": [
       "<div>\n",
       "<style scoped>\n",
       "    .dataframe tbody tr th:only-of-type {\n",
       "        vertical-align: middle;\n",
       "    }\n",
       "\n",
       "    .dataframe tbody tr th {\n",
       "        vertical-align: top;\n",
       "    }\n",
       "\n",
       "    .dataframe thead th {\n",
       "        text-align: right;\n",
       "    }\n",
       "</style>\n",
       "<table border=\"1\" class=\"dataframe\">\n",
       "  <thead>\n",
       "    <tr style=\"text-align: right;\">\n",
       "      <th></th>\n",
       "      <th>country</th>\n",
       "      <th>iso_code</th>\n",
       "      <th>date</th>\n",
       "      <th>total_vaccinations</th>\n",
       "      <th>people_vaccinated</th>\n",
       "      <th>people_fully_vaccinated</th>\n",
       "      <th>daily_vaccinations_raw</th>\n",
       "      <th>daily_vaccinations</th>\n",
       "      <th>total_vaccinations_per_hundred</th>\n",
       "      <th>people_vaccinated_per_hundred</th>\n",
       "      <th>people_fully_vaccinated_per_hundred</th>\n",
       "      <th>daily_vaccinations_per_million</th>\n",
       "      <th>vaccines</th>\n",
       "      <th>source_name</th>\n",
       "      <th>source_website</th>\n",
       "    </tr>\n",
       "  </thead>\n",
       "  <tbody>\n",
       "    <tr>\n",
       "      <th>0</th>\n",
       "      <td>Argentina</td>\n",
       "      <td>ARG</td>\n",
       "      <td>2020-12-29</td>\n",
       "      <td>700.0</td>\n",
       "      <td>NaN</td>\n",
       "      <td>NaN</td>\n",
       "      <td>NaN</td>\n",
       "      <td>NaN</td>\n",
       "      <td>0.00</td>\n",
       "      <td>NaN</td>\n",
       "      <td>NaN</td>\n",
       "      <td>NaN</td>\n",
       "      <td>Sputnik V</td>\n",
       "      <td>Ministry of Health</td>\n",
       "      <td>http://datos.salud.gob.ar/dataset/vacunas-cont...</td>\n",
       "    </tr>\n",
       "    <tr>\n",
       "      <th>1</th>\n",
       "      <td>Argentina</td>\n",
       "      <td>ARG</td>\n",
       "      <td>2020-12-30</td>\n",
       "      <td>NaN</td>\n",
       "      <td>NaN</td>\n",
       "      <td>NaN</td>\n",
       "      <td>NaN</td>\n",
       "      <td>15656.0</td>\n",
       "      <td>NaN</td>\n",
       "      <td>NaN</td>\n",
       "      <td>NaN</td>\n",
       "      <td>346.0</td>\n",
       "      <td>Sputnik V</td>\n",
       "      <td>Ministry of Health</td>\n",
       "      <td>http://datos.salud.gob.ar/dataset/vacunas-cont...</td>\n",
       "    </tr>\n",
       "    <tr>\n",
       "      <th>2</th>\n",
       "      <td>Argentina</td>\n",
       "      <td>ARG</td>\n",
       "      <td>2020-12-31</td>\n",
       "      <td>32013.0</td>\n",
       "      <td>NaN</td>\n",
       "      <td>NaN</td>\n",
       "      <td>NaN</td>\n",
       "      <td>15656.0</td>\n",
       "      <td>0.07</td>\n",
       "      <td>NaN</td>\n",
       "      <td>NaN</td>\n",
       "      <td>346.0</td>\n",
       "      <td>Sputnik V</td>\n",
       "      <td>Ministry of Health</td>\n",
       "      <td>http://datos.salud.gob.ar/dataset/vacunas-cont...</td>\n",
       "    </tr>\n",
       "    <tr>\n",
       "      <th>3</th>\n",
       "      <td>Argentina</td>\n",
       "      <td>ARG</td>\n",
       "      <td>2021-01-01</td>\n",
       "      <td>NaN</td>\n",
       "      <td>NaN</td>\n",
       "      <td>NaN</td>\n",
       "      <td>NaN</td>\n",
       "      <td>11070.0</td>\n",
       "      <td>NaN</td>\n",
       "      <td>NaN</td>\n",
       "      <td>NaN</td>\n",
       "      <td>245.0</td>\n",
       "      <td>Sputnik V</td>\n",
       "      <td>Ministry of Health</td>\n",
       "      <td>http://datos.salud.gob.ar/dataset/vacunas-cont...</td>\n",
       "    </tr>\n",
       "    <tr>\n",
       "      <th>4</th>\n",
       "      <td>Argentina</td>\n",
       "      <td>ARG</td>\n",
       "      <td>2021-01-02</td>\n",
       "      <td>NaN</td>\n",
       "      <td>NaN</td>\n",
       "      <td>NaN</td>\n",
       "      <td>NaN</td>\n",
       "      <td>8776.0</td>\n",
       "      <td>NaN</td>\n",
       "      <td>NaN</td>\n",
       "      <td>NaN</td>\n",
       "      <td>194.0</td>\n",
       "      <td>Sputnik V</td>\n",
       "      <td>Ministry of Health</td>\n",
       "      <td>http://datos.salud.gob.ar/dataset/vacunas-cont...</td>\n",
       "    </tr>\n",
       "  </tbody>\n",
       "</table>\n",
       "</div>"
      ],
      "text/plain": [
       "     country iso_code        date  total_vaccinations  people_vaccinated  \\\n",
       "0  Argentina      ARG  2020-12-29               700.0                NaN   \n",
       "1  Argentina      ARG  2020-12-30                 NaN                NaN   \n",
       "2  Argentina      ARG  2020-12-31             32013.0                NaN   \n",
       "3  Argentina      ARG  2021-01-01                 NaN                NaN   \n",
       "4  Argentina      ARG  2021-01-02                 NaN                NaN   \n",
       "\n",
       "   people_fully_vaccinated  daily_vaccinations_raw  daily_vaccinations  \\\n",
       "0                      NaN                     NaN                 NaN   \n",
       "1                      NaN                     NaN             15656.0   \n",
       "2                      NaN                     NaN             15656.0   \n",
       "3                      NaN                     NaN             11070.0   \n",
       "4                      NaN                     NaN              8776.0   \n",
       "\n",
       "   total_vaccinations_per_hundred  people_vaccinated_per_hundred  \\\n",
       "0                            0.00                            NaN   \n",
       "1                             NaN                            NaN   \n",
       "2                            0.07                            NaN   \n",
       "3                             NaN                            NaN   \n",
       "4                             NaN                            NaN   \n",
       "\n",
       "   people_fully_vaccinated_per_hundred  daily_vaccinations_per_million  \\\n",
       "0                                  NaN                             NaN   \n",
       "1                                  NaN                           346.0   \n",
       "2                                  NaN                           346.0   \n",
       "3                                  NaN                           245.0   \n",
       "4                                  NaN                           194.0   \n",
       "\n",
       "    vaccines         source_name  \\\n",
       "0  Sputnik V  Ministry of Health   \n",
       "1  Sputnik V  Ministry of Health   \n",
       "2  Sputnik V  Ministry of Health   \n",
       "3  Sputnik V  Ministry of Health   \n",
       "4  Sputnik V  Ministry of Health   \n",
       "\n",
       "                                      source_website  \n",
       "0  http://datos.salud.gob.ar/dataset/vacunas-cont...  \n",
       "1  http://datos.salud.gob.ar/dataset/vacunas-cont...  \n",
       "2  http://datos.salud.gob.ar/dataset/vacunas-cont...  \n",
       "3  http://datos.salud.gob.ar/dataset/vacunas-cont...  \n",
       "4  http://datos.salud.gob.ar/dataset/vacunas-cont...  "
      ]
     },
     "execution_count": 2,
     "metadata": {},
     "output_type": "execute_result"
    }
   ],
   "source": [
    "#Read in the Dataset and investigate the dimensions\n",
    "\n",
    "df=pd.read_csv('.\\data\\country_vaccinations.csv')\n",
    "df_gdp=pd.read_csv('.\\data\\country_gdp.csv',delimiter=';')\n",
    "df_pop=pd.read_csv('.\\data\\country_population.csv')\n",
    "print('Shape of dataset:',df.shape,df_gdp.shape,df_pop.shape)\n",
    "print('Columns in dataset:',df.columns)\n",
    "available_countries=list(df.country.unique())\n",
    "df.head()"
   ]
  },
  {
   "cell_type": "markdown",
   "metadata": {},
   "source": [
    "### Data Cleaning and Merging"
   ]
  },
  {
   "cell_type": "code",
   "execution_count": 3,
   "metadata": {},
   "outputs": [
    {
     "name": "stdout",
     "output_type": "stream",
     "text": [
      "Failed to merge Countries: {'Wales', 'England', 'Scotland', 'Northern Ireland'}\n"
     ]
    },
    {
     "data": {
      "text/plain": [
       "(1266, 17)"
      ]
     },
     "execution_count": 3,
     "metadata": {},
     "output_type": "execute_result"
    }
   ],
   "source": [
    "#Merge datasets for analysis (gdp)\n",
    "df_gdp=df_gdp.rename(columns={'Country Name':'country'})\n",
    "df_merged=pd.merge(df,df_gdp,on=['country'],how='inner')\n",
    "df_merged['date']=pd.to_datetime(df_merged['date'])\n",
    "\n",
    "#check missing countries\n",
    "merged_countries=list(df_merged.country.unique())\n",
    "print('Failed to merge Countries:',set(available_countries)-set(merged_countries))\n",
    "df_merged.shape"
   ]
  },
  {
   "cell_type": "code",
   "execution_count": 4,
   "metadata": {},
   "outputs": [
    {
     "data": {
      "text/plain": [
       "country                           0\n",
       "iso_code                          0\n",
       "date                              0\n",
       "total_vaccinations                0\n",
       "daily_vaccinations                0\n",
       "total_vaccinations_per_hundred    0\n",
       "daily_vaccinations_per_million    0\n",
       "vaccines                          0\n",
       "GDP_per_Capita                    0\n",
       "dtype: int64"
      ]
     },
     "execution_count": 4,
     "metadata": {},
     "output_type": "execute_result"
    }
   ],
   "source": [
    "#Clean missing data and drop columns\n",
    "df_merged=df_merged.drop(columns=['daily_vaccinations_raw','source_name','source_website','Indicator Name','people_vaccinated','people_fully_vaccinated','people_fully_vaccinated_per_hundred','people_vaccinated_per_hundred'])\n",
    "\n",
    "#Remove rows with \"total/daily vaccinations\" and GDP missing\n",
    "df_cleaned=df_merged.dropna(axis=0,subset=['total_vaccinations','daily_vaccinations','2019'])\n",
    "df_cleaned=df_cleaned.rename(columns={'2019':'GDP_per_Capita'})\n",
    "df_cleaned.isnull().sum()"
   ]
  },
  {
   "cell_type": "code",
   "execution_count": 5,
   "metadata": {},
   "outputs": [],
   "source": [
    "#filter and join population size data (only most recent number relevant)\n",
    "sorted = df_pop.sort_values(by='Time')\n",
    "df_pop_filtered = sorted.drop_duplicates('Location', keep='last')\n",
    "df_pop_filtered=df_pop_filtered.rename(columns={'Location':'country'})"
   ]
  },
  {
   "cell_type": "code",
   "execution_count": 6,
   "metadata": {},
   "outputs": [
    {
     "data": {
      "text/html": [
       "<div>\n",
       "<style scoped>\n",
       "    .dataframe tbody tr th:only-of-type {\n",
       "        vertical-align: middle;\n",
       "    }\n",
       "\n",
       "    .dataframe tbody tr th {\n",
       "        vertical-align: top;\n",
       "    }\n",
       "\n",
       "    .dataframe thead th {\n",
       "        text-align: right;\n",
       "    }\n",
       "</style>\n",
       "<table border=\"1\" class=\"dataframe\">\n",
       "  <thead>\n",
       "    <tr style=\"text-align: right;\">\n",
       "      <th></th>\n",
       "      <th>country</th>\n",
       "      <th>iso_code</th>\n",
       "      <th>date</th>\n",
       "      <th>total_vaccinations</th>\n",
       "      <th>daily_vaccinations</th>\n",
       "      <th>total_vaccinations_per_hundred</th>\n",
       "      <th>daily_vaccinations_per_million</th>\n",
       "      <th>vaccines</th>\n",
       "      <th>GDP_per_Capita</th>\n",
       "      <th>PopTotal</th>\n",
       "      <th>PopDensity</th>\n",
       "    </tr>\n",
       "  </thead>\n",
       "  <tbody>\n",
       "    <tr>\n",
       "      <th>0</th>\n",
       "      <td>Argentina</td>\n",
       "      <td>ARG</td>\n",
       "      <td>2020-12-31</td>\n",
       "      <td>32013.0</td>\n",
       "      <td>15656.0</td>\n",
       "      <td>0.07</td>\n",
       "      <td>346.0</td>\n",
       "      <td>Sputnik V</td>\n",
       "      <td>9912.281809</td>\n",
       "      <td>56802.493</td>\n",
       "      <td>20.756</td>\n",
       "    </tr>\n",
       "    <tr>\n",
       "      <th>1</th>\n",
       "      <td>Argentina</td>\n",
       "      <td>ARG</td>\n",
       "      <td>2021-01-04</td>\n",
       "      <td>39599.0</td>\n",
       "      <td>6483.0</td>\n",
       "      <td>0.09</td>\n",
       "      <td>143.0</td>\n",
       "      <td>Sputnik V</td>\n",
       "      <td>9912.281809</td>\n",
       "      <td>56802.493</td>\n",
       "      <td>20.756</td>\n",
       "    </tr>\n",
       "    <tr>\n",
       "      <th>2</th>\n",
       "      <td>Argentina</td>\n",
       "      <td>ARG</td>\n",
       "      <td>2021-01-08</td>\n",
       "      <td>107542.0</td>\n",
       "      <td>10519.0</td>\n",
       "      <td>0.24</td>\n",
       "      <td>233.0</td>\n",
       "      <td>Sputnik V</td>\n",
       "      <td>9912.281809</td>\n",
       "      <td>56802.493</td>\n",
       "      <td>20.756</td>\n",
       "    </tr>\n",
       "    <tr>\n",
       "      <th>3</th>\n",
       "      <td>Argentina</td>\n",
       "      <td>ARG</td>\n",
       "      <td>2021-01-13</td>\n",
       "      <td>166833.0</td>\n",
       "      <td>13323.0</td>\n",
       "      <td>0.37</td>\n",
       "      <td>295.0</td>\n",
       "      <td>Sputnik V</td>\n",
       "      <td>9912.281809</td>\n",
       "      <td>56802.493</td>\n",
       "      <td>20.756</td>\n",
       "    </tr>\n",
       "    <tr>\n",
       "      <th>4</th>\n",
       "      <td>Argentina</td>\n",
       "      <td>ARG</td>\n",
       "      <td>2021-01-15</td>\n",
       "      <td>200759.0</td>\n",
       "      <td>13317.0</td>\n",
       "      <td>0.44</td>\n",
       "      <td>295.0</td>\n",
       "      <td>Sputnik V</td>\n",
       "      <td>9912.281809</td>\n",
       "      <td>56802.493</td>\n",
       "      <td>20.756</td>\n",
       "    </tr>\n",
       "  </tbody>\n",
       "</table>\n",
       "</div>"
      ],
      "text/plain": [
       "     country iso_code       date  total_vaccinations  daily_vaccinations  \\\n",
       "0  Argentina      ARG 2020-12-31             32013.0             15656.0   \n",
       "1  Argentina      ARG 2021-01-04             39599.0              6483.0   \n",
       "2  Argentina      ARG 2021-01-08            107542.0             10519.0   \n",
       "3  Argentina      ARG 2021-01-13            166833.0             13323.0   \n",
       "4  Argentina      ARG 2021-01-15            200759.0             13317.0   \n",
       "\n",
       "   total_vaccinations_per_hundred  daily_vaccinations_per_million   vaccines  \\\n",
       "0                            0.07                           346.0  Sputnik V   \n",
       "1                            0.09                           143.0  Sputnik V   \n",
       "2                            0.24                           233.0  Sputnik V   \n",
       "3                            0.37                           295.0  Sputnik V   \n",
       "4                            0.44                           295.0  Sputnik V   \n",
       "\n",
       "   GDP_per_Capita   PopTotal  PopDensity  \n",
       "0     9912.281809  56802.493      20.756  \n",
       "1     9912.281809  56802.493      20.756  \n",
       "2     9912.281809  56802.493      20.756  \n",
       "3     9912.281809  56802.493      20.756  \n",
       "4     9912.281809  56802.493      20.756  "
      ]
     },
     "execution_count": 6,
     "metadata": {},
     "output_type": "execute_result"
    }
   ],
   "source": [
    "df_tot=pd.merge(df_cleaned,df_pop_filtered,on=['country'],how='inner')\n",
    "df_tot=df_tot.drop(columns=['LocID','VarID','Variant','Time','MidPeriod','PopMale','PopFemale'])\n",
    "\n",
    "df_tot.head()"
   ]
  },
  {
   "cell_type": "code",
   "execution_count": 7,
   "metadata": {},
   "outputs": [],
   "source": [
    "# 0/1 encode categorical values of the vaccines column\n",
    "\n",
    "df_tot['Pfizer']=df_tot['vaccines'].apply(lambda x: 1 if 'Pfizer/BioNTech' in x else 0)\n",
    "df_tot['Sinopharm']=df_tot['vaccines'].apply(lambda x: 1 if 'Sinopharm' in x else 0)\n",
    "df_tot['Moderna']=df_tot['vaccines'].apply(lambda x: 1 if 'Moderna' in x else 0)\n",
    "df_tot['Sinovac']=df_tot['vaccines'].apply(lambda x: 1 if 'Sinovac' in x else 0)\n",
    "df_tot['Astra']=df_tot['vaccines'].apply(lambda x: 1 if 'Oxford/AstraZeneca' in x else 0)"
   ]
  },
  {
   "cell_type": "markdown",
   "metadata": {},
   "source": [
    "## Exploratory Data Analysis"
   ]
  },
  {
   "cell_type": "code",
   "execution_count": 8,
   "metadata": {},
   "outputs": [
    {
     "name": "stdout",
     "output_type": "stream",
     "text": [
      "List of Countries being analyzed: \n",
      " ['Argentina' 'Austria' 'Bahrain' 'Belgium' 'Brazil' 'Bulgaria' 'Canada'\n",
      " 'Chile' 'China' 'Costa Rica' 'Croatia' 'Cyprus' 'Czechia' 'Denmark'\n",
      " 'Ecuador' 'Estonia' 'Finland' 'France' 'Germany' 'Greece' 'Hungary'\n",
      " 'Iceland' 'India' 'Indonesia' 'Ireland' 'Israel' 'Italy' 'Latvia'\n",
      " 'Lithuania' 'Luxembourg' 'Malta' 'Mexico' 'Netherlands' 'Norway' 'Oman'\n",
      " 'Panama' 'Poland' 'Portugal' 'Romania' 'Saudi Arabia' 'Serbia'\n",
      " 'Seychelles' 'Singapore' 'Slovakia' 'Slovenia' 'Spain' 'Sweden'\n",
      " 'Switzerland' 'Turkey' 'United Arab Emirates' 'United Kingdom']\n",
      "\n",
      " Number of countries being analyzed: 51\n"
     ]
    }
   ],
   "source": [
    "#List of analyzed countrys\n",
    "print('List of Countries being analyzed: \\n',df_tot['country'].unique())\n",
    "print('\\n Number of countries being analyzed:', len(df_tot['country'].unique()))"
   ]
  },
  {
   "cell_type": "code",
   "execution_count": 9,
   "metadata": {},
   "outputs": [
    {
     "data": {
      "text/html": [
       "<div>\n",
       "<style scoped>\n",
       "    .dataframe tbody tr th:only-of-type {\n",
       "        vertical-align: middle;\n",
       "    }\n",
       "\n",
       "    .dataframe tbody tr th {\n",
       "        vertical-align: top;\n",
       "    }\n",
       "\n",
       "    .dataframe thead th {\n",
       "        text-align: right;\n",
       "    }\n",
       "</style>\n",
       "<table border=\"1\" class=\"dataframe\">\n",
       "  <thead>\n",
       "    <tr style=\"text-align: right;\">\n",
       "      <th></th>\n",
       "      <th>total_vaccinations</th>\n",
       "      <th>daily_vaccinations</th>\n",
       "      <th>total_vaccinations_per_hundred</th>\n",
       "      <th>daily_vaccinations_per_million</th>\n",
       "      <th>GDP_per_Capita</th>\n",
       "      <th>PopTotal</th>\n",
       "      <th>PopDensity</th>\n",
       "      <th>Pfizer</th>\n",
       "      <th>Sinopharm</th>\n",
       "      <th>Moderna</th>\n",
       "      <th>Sinovac</th>\n",
       "      <th>Astra</th>\n",
       "    </tr>\n",
       "  </thead>\n",
       "  <tbody>\n",
       "    <tr>\n",
       "      <th>count</th>\n",
       "      <td>8.030000e+02</td>\n",
       "      <td>803.000000</td>\n",
       "      <td>803.000000</td>\n",
       "      <td>803.000000</td>\n",
       "      <td>803.000000</td>\n",
       "      <td>8.030000e+02</td>\n",
       "      <td>803.000000</td>\n",
       "      <td>803.000000</td>\n",
       "      <td>803.000000</td>\n",
       "      <td>803.000000</td>\n",
       "      <td>803.000000</td>\n",
       "      <td>803.000000</td>\n",
       "    </tr>\n",
       "    <tr>\n",
       "      <th>mean</th>\n",
       "      <td>3.951962e+05</td>\n",
       "      <td>27677.678705</td>\n",
       "      <td>2.279776</td>\n",
       "      <td>1481.927771</td>\n",
       "      <td>31323.564272</td>\n",
       "      <td>5.004936e+04</td>\n",
       "      <td>226.336613</td>\n",
       "      <td>0.937733</td>\n",
       "      <td>0.073474</td>\n",
       "      <td>0.281445</td>\n",
       "      <td>0.031133</td>\n",
       "      <td>0.019925</td>\n",
       "    </tr>\n",
       "    <tr>\n",
       "      <th>std</th>\n",
       "      <td>1.046660e+06</td>\n",
       "      <td>58432.513782</td>\n",
       "      <td>5.286618</td>\n",
       "      <td>2875.584648</td>\n",
       "      <td>19769.916645</td>\n",
       "      <td>2.283429e+05</td>\n",
       "      <td>511.712956</td>\n",
       "      <td>0.241790</td>\n",
       "      <td>0.261076</td>\n",
       "      <td>0.449984</td>\n",
       "      <td>0.173786</td>\n",
       "      <td>0.139831</td>\n",
       "    </tr>\n",
       "    <tr>\n",
       "      <th>min</th>\n",
       "      <td>6.000000e+00</td>\n",
       "      <td>1.000000</td>\n",
       "      <td>0.000000</td>\n",
       "      <td>0.000000</td>\n",
       "      <td>2099.599048</td>\n",
       "      <td>7.561500e+01</td>\n",
       "      <td>4.551000</td>\n",
       "      <td>0.000000</td>\n",
       "      <td>0.000000</td>\n",
       "      <td>0.000000</td>\n",
       "      <td>0.000000</td>\n",
       "      <td>0.000000</td>\n",
       "    </tr>\n",
       "    <tr>\n",
       "      <th>25%</th>\n",
       "      <td>1.828100e+04</td>\n",
       "      <td>1848.000000</td>\n",
       "      <td>0.255000</td>\n",
       "      <td>272.000000</td>\n",
       "      <td>15731.016030</td>\n",
       "      <td>3.829211e+03</td>\n",
       "      <td>24.169000</td>\n",
       "      <td>1.000000</td>\n",
       "      <td>0.000000</td>\n",
       "      <td>0.000000</td>\n",
       "      <td>0.000000</td>\n",
       "      <td>0.000000</td>\n",
       "    </tr>\n",
       "    <tr>\n",
       "      <th>50%</th>\n",
       "      <td>6.328000e+04</td>\n",
       "      <td>5857.000000</td>\n",
       "      <td>0.730000</td>\n",
       "      <td>659.000000</td>\n",
       "      <td>23503.977130</td>\n",
       "      <td>1.038790e+04</td>\n",
       "      <td>75.213000</td>\n",
       "      <td>1.000000</td>\n",
       "      <td>0.000000</td>\n",
       "      <td>0.000000</td>\n",
       "      <td>0.000000</td>\n",
       "      <td>0.000000</td>\n",
       "    </tr>\n",
       "    <tr>\n",
       "      <th>75%</th>\n",
       "      <td>2.489120e+05</td>\n",
       "      <td>27754.500000</td>\n",
       "      <td>1.640000</td>\n",
       "      <td>1087.000000</td>\n",
       "      <td>46194.725230</td>\n",
       "      <td>2.871089e+04</td>\n",
       "      <td>184.329000</td>\n",
       "      <td>1.000000</td>\n",
       "      <td>0.000000</td>\n",
       "      <td>1.000000</td>\n",
       "      <td>0.000000</td>\n",
       "      <td>0.000000</td>\n",
       "    </tr>\n",
       "    <tr>\n",
       "      <th>max</th>\n",
       "      <td>1.500000e+07</td>\n",
       "      <td>714286.000000</td>\n",
       "      <td>41.770000</td>\n",
       "      <td>19604.000000</td>\n",
       "      <td>114704.594200</td>\n",
       "      <td>2.181574e+06</td>\n",
       "      <td>6484.990000</td>\n",
       "      <td>1.000000</td>\n",
       "      <td>1.000000</td>\n",
       "      <td>1.000000</td>\n",
       "      <td>1.000000</td>\n",
       "      <td>1.000000</td>\n",
       "    </tr>\n",
       "  </tbody>\n",
       "</table>\n",
       "</div>"
      ],
      "text/plain": [
       "       total_vaccinations  daily_vaccinations  total_vaccinations_per_hundred  \\\n",
       "count        8.030000e+02          803.000000                      803.000000   \n",
       "mean         3.951962e+05        27677.678705                        2.279776   \n",
       "std          1.046660e+06        58432.513782                        5.286618   \n",
       "min          6.000000e+00            1.000000                        0.000000   \n",
       "25%          1.828100e+04         1848.000000                        0.255000   \n",
       "50%          6.328000e+04         5857.000000                        0.730000   \n",
       "75%          2.489120e+05        27754.500000                        1.640000   \n",
       "max          1.500000e+07       714286.000000                       41.770000   \n",
       "\n",
       "       daily_vaccinations_per_million  GDP_per_Capita      PopTotal  \\\n",
       "count                      803.000000      803.000000  8.030000e+02   \n",
       "mean                      1481.927771    31323.564272  5.004936e+04   \n",
       "std                       2875.584648    19769.916645  2.283429e+05   \n",
       "min                          0.000000     2099.599048  7.561500e+01   \n",
       "25%                        272.000000    15731.016030  3.829211e+03   \n",
       "50%                        659.000000    23503.977130  1.038790e+04   \n",
       "75%                       1087.000000    46194.725230  2.871089e+04   \n",
       "max                      19604.000000   114704.594200  2.181574e+06   \n",
       "\n",
       "        PopDensity      Pfizer   Sinopharm     Moderna     Sinovac       Astra  \n",
       "count   803.000000  803.000000  803.000000  803.000000  803.000000  803.000000  \n",
       "mean    226.336613    0.937733    0.073474    0.281445    0.031133    0.019925  \n",
       "std     511.712956    0.241790    0.261076    0.449984    0.173786    0.139831  \n",
       "min       4.551000    0.000000    0.000000    0.000000    0.000000    0.000000  \n",
       "25%      24.169000    1.000000    0.000000    0.000000    0.000000    0.000000  \n",
       "50%      75.213000    1.000000    0.000000    0.000000    0.000000    0.000000  \n",
       "75%     184.329000    1.000000    0.000000    1.000000    0.000000    0.000000  \n",
       "max    6484.990000    1.000000    1.000000    1.000000    1.000000    1.000000  "
      ]
     },
     "execution_count": 9,
     "metadata": {},
     "output_type": "execute_result"
    }
   ],
   "source": [
    "#Investigate the data\n",
    "df_tot.describe()"
   ]
  },
  {
   "cell_type": "markdown",
   "metadata": {},
   "source": []
  },
  {
   "cell_type": "markdown",
   "metadata": {},
   "source": [
    "#### Recent Daily Vaccinations per million citizens per country\n",
    "\n",
    "Which countries are vaccinating the highest percentage of their citizens every day?"
   ]
  },
  {
   "cell_type": "code",
   "execution_count": 10,
   "metadata": {},
   "outputs": [],
   "source": [
    "#Current Vaccination Status per country\n",
    "sorted = df_tot.sort_values(by='date')\n",
    "df_recent = sorted.drop_duplicates('country', keep='last')\n",
    "df_recent = df_recent.sort_values(by='daily_vaccinations_per_million')"
   ]
  },
  {
   "cell_type": "code",
   "execution_count": 11,
   "metadata": {},
   "outputs": [
    {
     "data": {
      "text/plain": [
       "<matplotlib.axes._subplots.AxesSubplot at 0x266685b2c40>"
      ]
     },
     "execution_count": 11,
     "metadata": {},
     "output_type": "execute_result"
    },
    {
     "data": {
      "image/png": "[encoded data removed]",
      "text/plain": [
       "<Figure size 1800x288 with 1 Axes>"
      ]
     },
     "metadata": {
      "needs_background": "light"
     },
     "output_type": "display_data"
    }
   ],
   "source": [
    "curr=df_recent[['daily_vaccinations_per_million','iso_code']]\n",
    "curr.plot.scatter(x='iso_code',y='daily_vaccinations_per_million',figsize=(25,4))"
   ]
  },
  {
   "cell_type": "markdown",
   "metadata": {},
   "source": [
    "#### US Daily Vaccination Rate\n",
    "How fast is the US improving their daily vaccination numbers?"
   ]
  },
  {
   "cell_type": "code",
   "execution_count": 12,
   "metadata": {},
   "outputs": [],
   "source": [
    "df_US=df_cleaned[df_cleaned['country']=='United States'][['date','daily_vaccinations']]"
   ]
  },
  {
   "cell_type": "code",
   "execution_count": 13,
   "metadata": {},
   "outputs": [
    {
     "data": {
      "text/plain": [
       "<matplotlib.axes._subplots.AxesSubplot at 0x26668909af0>"
      ]
     },
     "execution_count": 13,
     "metadata": {},
     "output_type": "execute_result"
    },
    {
     "data": {
      "image/png": "[encoded data removed]",
      "text/plain": [
       "<Figure size 1440x288 with 1 Axes>"
      ]
     },
     "metadata": {
      "needs_background": "light"
     },
     "output_type": "display_data"
    }
   ],
   "source": [
    "df_US.plot(x='date',y='daily_vaccinations',figsize=(20,4))"
   ]
  },
  {
   "cell_type": "markdown",
   "metadata": {},
   "source": [
    "### Association between GDP per Capita and percent of vaccinated citizens\n",
    "Are wealthy nations able to vaccine more citizens than countries?"
   ]
  },
  {
   "cell_type": "code",
   "execution_count": 14,
   "metadata": {},
   "outputs": [
    {
     "data": {
      "image/png": "[encoded data removed]",
      "text/plain": [
       "<Figure size 864x576 with 1 Axes>"
      ]
     },
     "metadata": {
      "needs_background": "light"
     },
     "output_type": "display_data"
    }
   ],
   "source": [
    "def label_point(x, y, val, ax):\n",
    "    a = pd.concat({'x': x, 'y': y, 'val': val}, axis=1)\n",
    "    for i, point in a.iterrows():\n",
    "        ax.text(point['x']+.02, point['y'], str(point['val']))\n",
    "        \n",
    "df_recent = df_recent.sort_values(by='GDP_per_Capita')\n",
    "curr=df_recent[['GDP_per_Capita','iso_code','total_vaccinations_per_hundred']]\n",
    "\n",
    "#remove outliers\n",
    "curr=curr[~curr['iso_code'].isin(['ISR','ARE','SYC','GBR','BHR'])]\n",
    "\n",
    "plt.figure(figsize=(12,8))\n",
    "\n",
    "splot=sns.regplot(data=curr,x='GDP_per_Capita',y='total_vaccinations_per_hundred')\n",
    "splot.set(xscale='log',ylim=[0,4.5])\n",
    "label_point(curr.GDP_per_Capita, curr.total_vaccinations_per_hundred, curr.iso_code, plt.gca())\n",
    "splot.axes.set_title(\"Association between GDP per Capita and percentage of vaccinated citizens\",fontsize=16)\n",
    "splot.set_xlabel('GDP per Capita',fontsize=15)\n",
    "splot.set_ylabel('Percentage of vaccinated citizens',fontsize=15)\n",
    "\n",
    "fig=splot.get_figure()\n",
    "fig.savefig(\"GDP_vs_PercVacc.png\")"
   ]
  },
  {
   "cell_type": "markdown",
   "metadata": {},
   "source": [
    "### Association between population size and percent of vaccinated citizens"
   ]
  },
  {
   "cell_type": "code",
   "execution_count": 15,
   "metadata": {},
   "outputs": [
    {
     "data": {
      "image/png": "[encoded data removed]",
      "text/plain": [
       "<Figure size 864x576 with 1 Axes>"
      ]
     },
     "metadata": {
      "needs_background": "light"
     },
     "output_type": "display_data"
    }
   ],
   "source": [
    "df_recent = df_recent.sort_values(by='PopTotal')\n",
    "curr=df_recent[['PopTotal','iso_code','total_vaccinations_per_hundred']]\n",
    "\n",
    "#remove outliers\n",
    "curr=curr[~curr['iso_code'].isin(['ISR','ARE','SYC','GBR','BHR'])]\n",
    "\n",
    "plt.figure(figsize=(12,8))\n",
    "\n",
    "splot=sns.regplot(data=curr,x='PopTotal',y='total_vaccinations_per_hundred')\n",
    "splot.set(xscale='log',ylim=[0,4.5])\n",
    "label_point(curr.PopTotal, curr.total_vaccinations_per_hundred, curr.iso_code, plt.gca()) \n",
    "splot.axes.set_title(\"Association between population size and percentage of vaccinated citizens\",fontsize=16)\n",
    "splot.set_xlabel('Total Population',fontsize=15)\n",
    "splot.set_ylabel('Percentage of vaccinated citizens',fontsize=15)\n",
    "\n",
    "fig=splot.get_figure()\n",
    "fig.savefig(\"PopSize_vs_PercVacc.png\")"
   ]
  },
  {
   "cell_type": "markdown",
   "metadata": {},
   "source": [
    "### Regression Coefficients for population size, GDP per Capita and population density"
   ]
  },
  {
   "cell_type": "code",
   "execution_count": 16,
   "metadata": {},
   "outputs": [],
   "source": [
    "y=np.array(df_recent[['total_vaccinations_per_hundred']])\n",
    "X=np.array(df_recent[['GDP_per_Capita','PopTotal','PopDensity']])"
   ]
  },
  {
   "cell_type": "code",
   "execution_count": 17,
   "metadata": {},
   "outputs": [],
   "source": [
    "reg = LinearRegression().fit(X, y)"
   ]
  },
  {
   "cell_type": "code",
   "execution_count": 18,
   "metadata": {},
   "outputs": [
    {
     "data": {
      "text/plain": [
       "array([[ 2.32138617e-05, -1.63475623e-06,  2.81426369e-04]])"
      ]
     },
     "execution_count": 18,
     "metadata": {},
     "output_type": "execute_result"
    }
   ],
   "source": [
    "reg.coef_"
   ]
  },
  {
   "cell_type": "markdown",
   "metadata": {},
   "source": [
    "### Vaccines Analysis\n",
    "\n",
    "Are there vaccines that are mostly available to countries with high GDP per Capita?"
   ]
  },
  {
   "cell_type": "code",
   "execution_count": 19,
   "metadata": {},
   "outputs": [
    {
     "data": {
      "text/plain": [
       "Pfizer/BioNTech                          30\n",
       "Moderna, Pfizer/BioNTech                 10\n",
       "Sinovac                                   3\n",
       "Pfizer/BioNTech, Sinopharm                2\n",
       "Oxford/AstraZeneca, Pfizer/BioNTech       1\n",
       "Sinopharm                                 1\n",
       "Sputnik V                                 1\n",
       "Covaxin, Covishield                       1\n",
       "CNBG, Sinovac                             1\n",
       "Pfizer/BioNTech, Sinopharm, Sputnik V     1\n",
       "Name: vaccines, dtype: int64"
      ]
     },
     "execution_count": 19,
     "metadata": {},
     "output_type": "execute_result"
    }
   ],
   "source": [
    "df_recent['vaccines'].value_counts()"
   ]
  },
  {
   "cell_type": "code",
   "execution_count": 20,
   "metadata": {},
   "outputs": [
    {
     "name": "stdout",
     "output_type": "stream",
     "text": [
      "Pfizer is used by 44 countries and avg gdp is 35142.85226397728\n",
      "Sinopharm is used by 4 countries and avg gdp is 22866.851649\n",
      "Moderna is used by 10 countries and avg gdp is 39820.356415500006\n",
      "Sinovac is used by 4 countries and avg gdp is 8060.249034249999\n",
      "Astra is used by 1 countries and avg gdp is 42330.11754\n"
     ]
    }
   ],
   "source": [
    "vaccines=['Pfizer','Sinopharm','Moderna','Sinovac','Astra']\n",
    "avg_gdp=[]\n",
    "nr_countries=[]\n",
    "for i in vaccines:\n",
    "    tot=0\n",
    "    n=0\n",
    "    for k,j in enumerate(df_recent['GDP_per_Capita']):\n",
    "        if df_recent[i].iloc[k]==1:\n",
    "            n+=1\n",
    "            tot+=j\n",
    "    avg=tot/n\n",
    "    avg_gdp.append(avg)\n",
    "    nr_countries.append(n)\n",
    "    print('{} is used by {} countries and avg gdp is {}'.format(i,n,avg))"
   ]
  },
  {
   "cell_type": "code",
   "execution_count": 21,
   "metadata": {},
   "outputs": [
    {
     "data": {
      "image/png": "[encoded data removed]",
      "text/plain": [
       "<Figure size 864x360 with 1 Axes>"
      ]
     },
     "metadata": {
      "needs_background": "light"
     },
     "output_type": "display_data"
    }
   ],
   "source": [
    "d={'Vaccine':vaccines,'avg_gdp':avg_gdp,'number_of_countries':nr_countries}\n",
    "df=pd.DataFrame(d)\n",
    "plt.figure(figsize=(12,5))\n",
    "splot=sns.barplot(data=df,x='avg_gdp',y='Vaccine',hue='number_of_countries')\n",
    "splot.axes.set_title(\"Average GDP per Capita per Vaccine\",fontsize=20)\n",
    "splot.set_xlabel('Average GDP per Capita',fontsize=15)\n",
    "splot.set_ylabel('Vaccine',fontsize=15)\n",
    "fig=splot.get_figure()\n",
    "fig.savefig(\"Vacc_plot.png\")"
   ]
  },
  {
   "cell_type": "code",
   "execution_count": null,
   "metadata": {},
   "outputs": [],
   "source": []
  },
  {
   "cell_type": "code",
   "execution_count": null,
   "metadata": {},
   "outputs": [],
   "source": []
  },
  {
   "cell_type": "code",
   "execution_count": null,
   "metadata": {},
   "outputs": [],
   "source": []
  },
  {
   "cell_type": "code",
   "execution_count": null,
   "metadata": {},
   "outputs": [],
   "source": []
  }
 ],
 "metadata": {
  "kernelspec": {
   "display_name": "Python 3",
   "language": "python",
   "name": "python3"
  },
  "language_info": {
   "codemirror_mode": {
    "name": "ipython",
    "version": 3
   },
   "file_extension": ".py",
   "mimetype": "text/x-python",
   "name": "python",
   "nbconvert_exporter": "python",
   "pygments_lexer": "ipython3",
   "version": "3.8.3"
  }
 },
 "nbformat": 4,
 "nbformat_minor": 4
}
